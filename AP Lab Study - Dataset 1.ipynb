{
 "cells": [
  {
   "attachments": {},
   "cell_type": "markdown",
   "id": "a8392f58-9f9e-4c1e-a215-322b8684e9e3",
   "metadata": {},
   "source": [
    "# Lab Study: Dataset 1\n",
    "\n",
    "Your company has recently acquired the following dataset and asked you to analyze it. They know that this is data of apartment prices scraped from craigslist and your colleague wants to train a model to predict the price but they don't know much about this dataset, what is in it, or what might be missing so they were hoping you could do an analysis to help them find out.\n",
    "\n",
    "They also know there are **at least 10 potential issues** in this dataset that need to be cleaned, they just don't know what they are!\n",
    "\n",
    "Please do the following:\n",
    "\n",
    "1. Clean the dataset and produce a new dataframe that is ready for modeling.\n",
    "2. Write down in the notebook...\n",
    "    1. What errors you find and fix\n",
    "    2. Any trends, insights, or information in this notebook about the dataset, what it contains, and its limitations that you think a colleague should know before they use this dataset to train a model or for another analysis. \n",
    "    3. Please save any useful charts to the notebook since your colleague may not have the same tools installed.\n",
    "\n",
    "Note that you do not need to actually encode the data in a form for modeling (e.g. make it numeric), the goal is to understand what is in the data before your colleague builds the model."
   ]
  },
  {
   "attachments": {},
   "cell_type": "markdown",
   "id": "3d7869ee",
   "metadata": {},
   "source": [
    "Findings / Errors:\n",
    "\n",
    "1. "
   ]
  },
  {
   "cell_type": "code",
   "execution_count": null,
   "id": "a78b25ce-70ca-495a-ab46-ce846fe1a4c4",
   "metadata": {},
   "outputs": [],
   "source": [
    "# from diginlineprofiler import Visualizer as plot\n",
    "import pandas as pd"
   ]
  },
  {
   "cell_type": "code",
   "execution_count": null,
   "id": "873e65e9",
   "metadata": {},
   "outputs": [],
   "source": [
    "df = pd.read_csv(\"dataset_housing.csv\")"
   ]
  }
 ],
 "metadata": {
  "kernelspec": {
   "display_name": "Python 3 (ipykernel)",
   "language": "python",
   "name": "python3"
  },
  "language_info": {
   "codemirror_mode": {
    "name": "ipython",
    "version": 3
   },
   "file_extension": ".py",
   "mimetype": "text/x-python",
   "name": "python",
   "nbconvert_exporter": "python",
   "pygments_lexer": "ipython3",
   "version": "3.10.9"
  }
 },
 "nbformat": 4,
 "nbformat_minor": 5
}
