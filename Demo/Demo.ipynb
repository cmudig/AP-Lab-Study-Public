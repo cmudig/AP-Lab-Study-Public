{
 "cells": [
  {
   "attachments": {},
   "cell_type": "markdown",
   "id": "197adf29",
   "metadata": {},
   "source": [
    "## Demo\n",
    "1. Distributions\n",
    "2. Nulls\n",
    "3. Cardinality\n",
    "4. Export to code to change charts or selections"
   ]
  },
  {
   "cell_type": "code",
   "execution_count": 1,
   "id": "92c2de73-56b4-4290-b620-b682945d04ed",
   "metadata": {
    "tags": []
   },
   "outputs": [],
   "source": [
    "import pandas as pd"
   ]
  },
  {
   "cell_type": "code",
   "execution_count": 2,
   "id": "68a2bba4-33b6-4121-a63a-4099acd9c9cf",
   "metadata": {
    "tags": []
   },
   "outputs": [],
   "source": [
    "df = pd.read_parquet(\"./pittsburgh-air-quality.parquet\")"
   ]
  },
  {
   "cell_type": "code",
   "execution_count": null,
   "id": "f36a75c3-f34d-477d-9dd8-43ec363e0f90",
   "metadata": {},
   "outputs": [],
   "source": []
  }
 ],
 "metadata": {
  "kernelspec": {
   "display_name": "Python 3 (ipykernel)",
   "language": "python",
   "name": "python3"
  },
  "language_info": {
   "codemirror_mode": {
    "name": "ipython",
    "version": 3
   },
   "file_extension": ".py",
   "mimetype": "text/x-python",
   "name": "python",
   "nbconvert_exporter": "python",
   "pygments_lexer": "ipython3",
   "version": "3.10.9"
  }
 },
 "nbformat": 4,
 "nbformat_minor": 5
}
